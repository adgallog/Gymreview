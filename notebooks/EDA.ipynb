{
 "cells": [
  {
   "cell_type": "code",
   "execution_count": 2,
   "id": "7827f95e-bdf8-4cd6-8bee-e820f03da4eb",
   "metadata": {},
   "outputs": [],
   "source": [
    "import pandas as pd\n",
    "import matplotlib.pyplot as plt\n",
    "import seaborn as sns"
   ]
  },
  {
   "cell_type": "code",
   "execution_count": 3,
   "id": "60d2e38f-5b87-474d-9552-e3df7522efd9",
   "metadata": {},
   "outputs": [],
   "source": [
    "df = pd.read_csv(\"datos/gym.csv\")"
   ]
  },
  {
   "cell_type": "code",
   "execution_count": 3,
   "id": "584864da-de00-4c3e-83c3-866ec0974c1a",
   "metadata": {},
   "outputs": [
    {
     "data": {
      "text/html": [
       "<div>\n",
       "<style scoped>\n",
       "    .dataframe tbody tr th:only-of-type {\n",
       "        vertical-align: middle;\n",
       "    }\n",
       "\n",
       "    .dataframe tbody tr th {\n",
       "        vertical-align: top;\n",
       "    }\n",
       "\n",
       "    .dataframe thead th {\n",
       "        text-align: right;\n",
       "    }\n",
       "</style>\n",
       "<table border=\"1\" class=\"dataframe\">\n",
       "  <thead>\n",
       "    <tr style=\"text-align: right;\">\n",
       "      <th></th>\n",
       "      <th>Age</th>\n",
       "      <th>Gender</th>\n",
       "      <th>Weight (kg)</th>\n",
       "      <th>Height (m)</th>\n",
       "      <th>Max_BPM</th>\n",
       "      <th>Avg_BPM</th>\n",
       "      <th>Resting_BPM</th>\n",
       "      <th>Session_Duration (hours)</th>\n",
       "      <th>Calories_Burned</th>\n",
       "      <th>Workout_Type</th>\n",
       "      <th>Fat_Percentage</th>\n",
       "      <th>Water_Intake (liters)</th>\n",
       "      <th>Workout_Frequency (days/week)</th>\n",
       "      <th>Experience_Level</th>\n",
       "      <th>BMI</th>\n",
       "    </tr>\n",
       "  </thead>\n",
       "  <tbody>\n",
       "    <tr>\n",
       "      <th>0</th>\n",
       "      <td>56</td>\n",
       "      <td>Male</td>\n",
       "      <td>88.3</td>\n",
       "      <td>1.71</td>\n",
       "      <td>180</td>\n",
       "      <td>157</td>\n",
       "      <td>60</td>\n",
       "      <td>1.69</td>\n",
       "      <td>1313.0</td>\n",
       "      <td>Yoga</td>\n",
       "      <td>12.6</td>\n",
       "      <td>3.5</td>\n",
       "      <td>4</td>\n",
       "      <td>3</td>\n",
       "      <td>30.20</td>\n",
       "    </tr>\n",
       "    <tr>\n",
       "      <th>1</th>\n",
       "      <td>46</td>\n",
       "      <td>Female</td>\n",
       "      <td>74.9</td>\n",
       "      <td>1.53</td>\n",
       "      <td>179</td>\n",
       "      <td>151</td>\n",
       "      <td>66</td>\n",
       "      <td>1.30</td>\n",
       "      <td>883.0</td>\n",
       "      <td>HIIT</td>\n",
       "      <td>33.9</td>\n",
       "      <td>2.1</td>\n",
       "      <td>4</td>\n",
       "      <td>2</td>\n",
       "      <td>32.00</td>\n",
       "    </tr>\n",
       "    <tr>\n",
       "      <th>2</th>\n",
       "      <td>32</td>\n",
       "      <td>Female</td>\n",
       "      <td>68.1</td>\n",
       "      <td>1.66</td>\n",
       "      <td>167</td>\n",
       "      <td>122</td>\n",
       "      <td>54</td>\n",
       "      <td>1.11</td>\n",
       "      <td>677.0</td>\n",
       "      <td>Cardio</td>\n",
       "      <td>33.4</td>\n",
       "      <td>2.3</td>\n",
       "      <td>4</td>\n",
       "      <td>2</td>\n",
       "      <td>24.71</td>\n",
       "    </tr>\n",
       "    <tr>\n",
       "      <th>3</th>\n",
       "      <td>25</td>\n",
       "      <td>Male</td>\n",
       "      <td>53.2</td>\n",
       "      <td>1.70</td>\n",
       "      <td>190</td>\n",
       "      <td>164</td>\n",
       "      <td>56</td>\n",
       "      <td>0.59</td>\n",
       "      <td>532.0</td>\n",
       "      <td>Strength</td>\n",
       "      <td>28.8</td>\n",
       "      <td>2.1</td>\n",
       "      <td>3</td>\n",
       "      <td>1</td>\n",
       "      <td>18.41</td>\n",
       "    </tr>\n",
       "    <tr>\n",
       "      <th>4</th>\n",
       "      <td>38</td>\n",
       "      <td>Male</td>\n",
       "      <td>46.1</td>\n",
       "      <td>1.79</td>\n",
       "      <td>188</td>\n",
       "      <td>158</td>\n",
       "      <td>68</td>\n",
       "      <td>0.64</td>\n",
       "      <td>556.0</td>\n",
       "      <td>Strength</td>\n",
       "      <td>29.2</td>\n",
       "      <td>2.8</td>\n",
       "      <td>3</td>\n",
       "      <td>1</td>\n",
       "      <td>14.39</td>\n",
       "    </tr>\n",
       "    <tr>\n",
       "      <th>...</th>\n",
       "      <td>...</td>\n",
       "      <td>...</td>\n",
       "      <td>...</td>\n",
       "      <td>...</td>\n",
       "      <td>...</td>\n",
       "      <td>...</td>\n",
       "      <td>...</td>\n",
       "      <td>...</td>\n",
       "      <td>...</td>\n",
       "      <td>...</td>\n",
       "      <td>...</td>\n",
       "      <td>...</td>\n",
       "      <td>...</td>\n",
       "      <td>...</td>\n",
       "      <td>...</td>\n",
       "    </tr>\n",
       "    <tr>\n",
       "      <th>968</th>\n",
       "      <td>24</td>\n",
       "      <td>Male</td>\n",
       "      <td>87.1</td>\n",
       "      <td>1.74</td>\n",
       "      <td>187</td>\n",
       "      <td>158</td>\n",
       "      <td>67</td>\n",
       "      <td>1.57</td>\n",
       "      <td>1364.0</td>\n",
       "      <td>Strength</td>\n",
       "      <td>10.0</td>\n",
       "      <td>3.5</td>\n",
       "      <td>4</td>\n",
       "      <td>3</td>\n",
       "      <td>28.77</td>\n",
       "    </tr>\n",
       "    <tr>\n",
       "      <th>969</th>\n",
       "      <td>25</td>\n",
       "      <td>Male</td>\n",
       "      <td>66.6</td>\n",
       "      <td>1.61</td>\n",
       "      <td>184</td>\n",
       "      <td>166</td>\n",
       "      <td>56</td>\n",
       "      <td>1.38</td>\n",
       "      <td>1260.0</td>\n",
       "      <td>Strength</td>\n",
       "      <td>25.0</td>\n",
       "      <td>3.0</td>\n",
       "      <td>2</td>\n",
       "      <td>1</td>\n",
       "      <td>25.69</td>\n",
       "    </tr>\n",
       "    <tr>\n",
       "      <th>970</th>\n",
       "      <td>59</td>\n",
       "      <td>Female</td>\n",
       "      <td>60.4</td>\n",
       "      <td>1.76</td>\n",
       "      <td>194</td>\n",
       "      <td>120</td>\n",
       "      <td>53</td>\n",
       "      <td>1.72</td>\n",
       "      <td>929.0</td>\n",
       "      <td>Cardio</td>\n",
       "      <td>18.8</td>\n",
       "      <td>2.7</td>\n",
       "      <td>5</td>\n",
       "      <td>3</td>\n",
       "      <td>19.50</td>\n",
       "    </tr>\n",
       "    <tr>\n",
       "      <th>971</th>\n",
       "      <td>32</td>\n",
       "      <td>Male</td>\n",
       "      <td>126.4</td>\n",
       "      <td>1.83</td>\n",
       "      <td>198</td>\n",
       "      <td>146</td>\n",
       "      <td>62</td>\n",
       "      <td>1.10</td>\n",
       "      <td>883.0</td>\n",
       "      <td>HIIT</td>\n",
       "      <td>28.2</td>\n",
       "      <td>2.1</td>\n",
       "      <td>3</td>\n",
       "      <td>2</td>\n",
       "      <td>37.74</td>\n",
       "    </tr>\n",
       "    <tr>\n",
       "      <th>972</th>\n",
       "      <td>46</td>\n",
       "      <td>Male</td>\n",
       "      <td>88.7</td>\n",
       "      <td>1.63</td>\n",
       "      <td>166</td>\n",
       "      <td>146</td>\n",
       "      <td>66</td>\n",
       "      <td>0.75</td>\n",
       "      <td>542.0</td>\n",
       "      <td>Strength</td>\n",
       "      <td>28.8</td>\n",
       "      <td>3.5</td>\n",
       "      <td>2</td>\n",
       "      <td>1</td>\n",
       "      <td>33.38</td>\n",
       "    </tr>\n",
       "  </tbody>\n",
       "</table>\n",
       "<p>973 rows × 15 columns</p>\n",
       "</div>"
      ],
      "text/plain": [
       "     Age  Gender  Weight (kg)  Height (m)  Max_BPM  Avg_BPM  Resting_BPM  \\\n",
       "0     56    Male         88.3        1.71      180      157           60   \n",
       "1     46  Female         74.9        1.53      179      151           66   \n",
       "2     32  Female         68.1        1.66      167      122           54   \n",
       "3     25    Male         53.2        1.70      190      164           56   \n",
       "4     38    Male         46.1        1.79      188      158           68   \n",
       "..   ...     ...          ...         ...      ...      ...          ...   \n",
       "968   24    Male         87.1        1.74      187      158           67   \n",
       "969   25    Male         66.6        1.61      184      166           56   \n",
       "970   59  Female         60.4        1.76      194      120           53   \n",
       "971   32    Male        126.4        1.83      198      146           62   \n",
       "972   46    Male         88.7        1.63      166      146           66   \n",
       "\n",
       "     Session_Duration (hours)  Calories_Burned Workout_Type  Fat_Percentage  \\\n",
       "0                        1.69           1313.0         Yoga            12.6   \n",
       "1                        1.30            883.0         HIIT            33.9   \n",
       "2                        1.11            677.0       Cardio            33.4   \n",
       "3                        0.59            532.0     Strength            28.8   \n",
       "4                        0.64            556.0     Strength            29.2   \n",
       "..                        ...              ...          ...             ...   \n",
       "968                      1.57           1364.0     Strength            10.0   \n",
       "969                      1.38           1260.0     Strength            25.0   \n",
       "970                      1.72            929.0       Cardio            18.8   \n",
       "971                      1.10            883.0         HIIT            28.2   \n",
       "972                      0.75            542.0     Strength            28.8   \n",
       "\n",
       "     Water_Intake (liters)  Workout_Frequency (days/week)  Experience_Level  \\\n",
       "0                      3.5                              4                 3   \n",
       "1                      2.1                              4                 2   \n",
       "2                      2.3                              4                 2   \n",
       "3                      2.1                              3                 1   \n",
       "4                      2.8                              3                 1   \n",
       "..                     ...                            ...               ...   \n",
       "968                    3.5                              4                 3   \n",
       "969                    3.0                              2                 1   \n",
       "970                    2.7                              5                 3   \n",
       "971                    2.1                              3                 2   \n",
       "972                    3.5                              2                 1   \n",
       "\n",
       "       BMI  \n",
       "0    30.20  \n",
       "1    32.00  \n",
       "2    24.71  \n",
       "3    18.41  \n",
       "4    14.39  \n",
       "..     ...  \n",
       "968  28.77  \n",
       "969  25.69  \n",
       "970  19.50  \n",
       "971  37.74  \n",
       "972  33.38  \n",
       "\n",
       "[973 rows x 15 columns]"
      ]
     },
     "execution_count": 3,
     "metadata": {},
     "output_type": "execute_result"
    }
   ],
   "source": [
    "df"
   ]
  },
  {
   "cell_type": "markdown",
   "id": "4e90f862-24f4-4e50-aecf-13fea434faf0",
   "metadata": {},
   "source": [
    "About Dataset\n",
    "This dataset provides a detailed overview of gym members' exercise routines, physical attributes, and fitness metrics. \n",
    "It contains 973 samples of gym data, including key performance indicators such as heart rate, calories burned, \n",
    "and workout duration. Each entry also includes demographic data and experience levels, allowing for comprehensive \n",
    "analysis of fitness patterns, athlete progression, and health trends.\n",
    "\n",
    "Key Features:\n",
    "\n",
    "Age: Age of the gym member.  \n",
    "Gender: Gender of the gym member (Male or Female).  \n",
    "Weight (kg): Member’s weight in kilograms.  \n",
    "Height (m): Member’s height in meters.  \n",
    "Max_BPM: Maximum heart rate (beats per minute) during workout sessions.  \n",
    "Avg_BPM: Average heart rate during workout sessions.  \n",
    "Resting_BPM: Heart rate at rest before workout.  \n",
    "Session_Duration (hours): Duration of each workout session in hours.  \n",
    "Calories_Burned: Total calories burned during each session.  \n",
    "Workout_Type: Type of workout performed (e.g., Cardio, Strength, Yoga, HIIT).  \n",
    "Fat_Percentage: Body fat percentage of the member.  \n",
    "Water_Intake (liters): Daily water intake during workouts.  \n",
    "Workout_Frequency (days/week): Number of workout sessions per week.  \n",
    "Experience_Level: Level of experience, from beginner (1) to expert (3).  \n",
    "BMI: Body Mass Index, calculated from height and weight.  \n",
    "\n",
    "\n",
    "This dataset is ideal for data scientists, health researchers, and fitness enthusiasts interested in studying exercise habits, modeling fitness progression, or analyzing the relationship between demographic and physiological data. With a wide range of variables, it offers insights into how different factors affect workout intensity, endurance, and overall health."
   ]
  },
  {
   "cell_type": "code",
   "execution_count": 4,
   "id": "90fc083c-6cd3-48ce-ab8b-ebaf2d74ec65",
   "metadata": {},
   "outputs": [
    {
     "data": {
      "text/plain": [
       "Age                              0\n",
       "Gender                           0\n",
       "Weight (kg)                      0\n",
       "Height (m)                       0\n",
       "Max_BPM                          0\n",
       "Avg_BPM                          0\n",
       "Resting_BPM                      0\n",
       "Session_Duration (hours)         0\n",
       "Calories_Burned                  0\n",
       "Workout_Type                     0\n",
       "Fat_Percentage                   0\n",
       "Water_Intake (liters)            0\n",
       "Workout_Frequency (days/week)    0\n",
       "Experience_Level                 0\n",
       "BMI                              0\n",
       "dtype: int64"
      ]
     },
     "execution_count": 4,
     "metadata": {},
     "output_type": "execute_result"
    }
   ],
   "source": [
    "df.isnull().sum()"
   ]
  },
  {
   "cell_type": "markdown",
   "id": "a576659d-48b1-4aaf-89db-04165ed4247c",
   "metadata": {},
   "source": [
    "Como podemos observar no encontramos valores Nulos en el Dataset, por lo cual nos ahorramos la necesidad de limpiar esta informacion."
   ]
  },
  {
   "cell_type": "code",
   "execution_count": 5,
   "id": "159b1cba-49b1-4101-b5e9-7747f50ed5ef",
   "metadata": {},
   "outputs": [
    {
     "data": {
      "text/plain": [
       "Gender\n",
       "Female    38.335498\n",
       "Male      38.998043\n",
       "Name: Age, dtype: float64"
      ]
     },
     "execution_count": 5,
     "metadata": {},
     "output_type": "execute_result"
    }
   ],
   "source": [
    "dfage = df.groupby('Gender')['Age'].mean()\n",
    "dfage\n",
    "#edad Promedio"
   ]
  },
  {
   "cell_type": "markdown",
   "id": "5eb7732a-cf38-4f91-8d1a-5c7abb6bc994",
   "metadata": {},
   "source": [
    "El promedio de edad entre los participantes hombres y mujeres es muy similar. "
   ]
  },
  {
   "cell_type": "code",
   "execution_count": 6,
   "id": "c4d154b6-6dd9-4a41-b615-70514cedd5bf",
   "metadata": {},
   "outputs": [
    {
     "data": {
      "text/plain": [
       "Gender\n",
       "Female    1.8\n",
       "Male      2.0\n",
       "Name: Height (m), dtype: float64"
      ]
     },
     "execution_count": 6,
     "metadata": {},
     "output_type": "execute_result"
    }
   ],
   "source": [
    "dfage = df.groupby('Gender')['Height (m)'].max()\n",
    "dfage\n",
    "#edad maxima por genero"
   ]
  },
  {
   "cell_type": "code",
   "execution_count": 7,
   "id": "0a4652dd-b1d1-447c-ae05-8fb6f3848c6e",
   "metadata": {},
   "outputs": [
    {
     "data": {
      "text/plain": [
       "Gender\n",
       "Female    1.5\n",
       "Male      1.6\n",
       "Name: Height (m), dtype: float64"
      ]
     },
     "execution_count": 7,
     "metadata": {},
     "output_type": "execute_result"
    }
   ],
   "source": [
    "dfage = df.groupby('Gender')['Height (m)'].min()\n",
    "dfage"
   ]
  },
  {
   "cell_type": "markdown",
   "id": "854dc0ca-cce3-4994-a7b1-df38235d724f",
   "metadata": {},
   "source": [
    "Asi mismo, las edades maximas y minimas son las mismas, para cada caso de genero lo cual nos permitira comparar valores entre ellos con un mejor margen de error. "
   ]
  },
  {
   "cell_type": "code",
   "execution_count": 12,
   "id": "64f3605f-36ec-43f9-ad06-4ab176c5338d",
   "metadata": {},
   "outputs": [],
   "source": [
    "dfmales = df[df['Gender'] == 'Male']"
   ]
  },
  {
   "cell_type": "code",
   "execution_count": 13,
   "id": "9c7290e7-0c23-4dc9-b54f-9ad636c6a310",
   "metadata": {},
   "outputs": [
    {
     "data": {
      "image/png": "[encoded data removed]",
      "text/plain": [
       "<Figure size 640x480 with 1 Axes>"
      ]
     },
     "metadata": {},
     "output_type": "display_data"
    }
   ],
   "source": [
    "sns.boxplot(x=dfmales['Age']) \n",
    "plt.show()"
   ]
  },
  {
   "cell_type": "code",
   "execution_count": 52,
   "id": "c48861c6-0691-4c5e-888c-a02281ad0f0a",
   "metadata": {},
   "outputs": [
    {
     "data": {
      "text/html": [
       "<div>\n",
       "<style scoped>\n",
       "    .dataframe tbody tr th:only-of-type {\n",
       "        vertical-align: middle;\n",
       "    }\n",
       "\n",
       "    .dataframe tbody tr th {\n",
       "        vertical-align: top;\n",
       "    }\n",
       "\n",
       "    .dataframe thead th {\n",
       "        text-align: right;\n",
       "    }\n",
       "</style>\n",
       "<table border=\"1\" class=\"dataframe\">\n",
       "  <thead>\n",
       "    <tr style=\"text-align: right;\">\n",
       "      <th></th>\n",
       "      <th>Age</th>\n",
       "      <th>Session_Duration (hours)</th>\n",
       "    </tr>\n",
       "  </thead>\n",
       "  <tbody>\n",
       "    <tr>\n",
       "      <th>0</th>\n",
       "      <td>18</td>\n",
       "      <td>1.271667</td>\n",
       "    </tr>\n",
       "    <tr>\n",
       "      <th>1</th>\n",
       "      <td>19</td>\n",
       "      <td>1.274000</td>\n",
       "    </tr>\n",
       "    <tr>\n",
       "      <th>2</th>\n",
       "      <td>20</td>\n",
       "      <td>1.185000</td>\n",
       "    </tr>\n",
       "    <tr>\n",
       "      <th>3</th>\n",
       "      <td>21</td>\n",
       "      <td>1.315833</td>\n",
       "    </tr>\n",
       "    <tr>\n",
       "      <th>4</th>\n",
       "      <td>22</td>\n",
       "      <td>1.215000</td>\n",
       "    </tr>\n",
       "  </tbody>\n",
       "</table>\n",
       "</div>"
      ],
      "text/plain": [
       "   Age  Session_Duration (hours)\n",
       "0   18                  1.271667\n",
       "1   19                  1.274000\n",
       "2   20                  1.185000\n",
       "3   21                  1.315833\n",
       "4   22                  1.215000"
      ]
     },
     "execution_count": 52,
     "metadata": {},
     "output_type": "execute_result"
    }
   ],
   "source": [
    "df_m_dur_sec = dfmales.groupby('Age')['Session_Duration (hours)'].mean().reset_index()\n",
    "df_m_dur_sec.head()"
   ]
  },
  {
   "cell_type": "code",
   "execution_count": 51,
   "id": "c9dc9b83-944a-4c44-b5ef-a74f92f3e6dc",
   "metadata": {},
   "outputs": [
    {
     "data": {
      "image/png": "[encoded data removed]",
      "text/plain": [
       "<Figure size 1500x500 with 1 Axes>"
      ]
     },
     "metadata": {},
     "output_type": "display_data"
    }
   ],
   "source": [
    "Xpos = df_m_dur_sec['Age']\n",
    "Ypos = df_m_dur_sec['Session_Duration (hours)']\n",
    "\n",
    "\n",
    "plt.figure( figsize = (15, 5) )\n",
    "plt.plot(Xpos,Ypos, 'r')\n",
    "plt.title(\"Promedio de Horas en el Gym por Edad\")\n",
    "plt.xlabel('Edad', fontsize=14)\n",
    "plt.ylabel('Horas')\n",
    "plt.plot(Xpos, Ypos, color='red', linewidth=2, marker='o', markersize=5, label='Tiempo en Horas')\n",
    "plt.grid(visible=True, linestyle='--', alpha=0.7)\n",
    "plt.legend()\n",
    "plt.xticks(Xpos, rotation=90, ha='right', fontsize=9)\n",
    "plt.yticks(fontsize=10)\n",
    "\n",
    "plt.gcf().autofmt_xdate()\n",
    "plt.show()"
   ]
  },
  {
   "cell_type": "markdown",
   "id": "544542ed-6102-40f7-a33e-46f2707768d7",
   "metadata": {},
   "source": [
    "las sesiones de entrenamiento para todas las edades se encuentran en un rango entre 1.05h y 1.40h, lo cual representan un rango razonable de trabajo para cada participante. No se considera necesario limpiar ningun dato a partir de este ejemplo.  "
   ]
  },
  {
   "cell_type": "code",
   "execution_count": 53,
   "id": "d52da3c6-6bda-40b8-9fec-865b120d88d2",
   "metadata": {},
   "outputs": [],
   "source": [
    "dfconteo = dfmales.groupby('Age')['Session_Duration (hours)'].count()"
   ]
  },
  {
   "cell_type": "code",
   "execution_count": 55,
   "id": "51c5fd90-ba11-4424-b6d2-153436179628",
   "metadata": {},
   "outputs": [
    {
     "data": {
      "text/plain": [
       "np.float64(12.166666666666666)"
      ]
     },
     "execution_count": 55,
     "metadata": {},
     "output_type": "execute_result"
    }
   ],
   "source": [
    "dfconteo.mean()"
   ]
  },
  {
   "cell_type": "markdown",
   "id": "ef1c4939-d010-4f74-96ac-8f886bc1241f",
   "metadata": {},
   "source": [
    "Aqui conseguimos que el primedio de aprticipantes por edad es de 12 personas. "
   ]
  },
  {
   "cell_type": "code",
   "execution_count": 56,
   "id": "45db2a89-c10e-4a40-b5d0-4c9bbbd8e87b",
   "metadata": {},
   "outputs": [
    {
     "data": {
      "text/plain": [
       "np.float64(12.0)"
      ]
     },
     "execution_count": 56,
     "metadata": {},
     "output_type": "execute_result"
    }
   ],
   "source": [
    "dfconteo.quantile(0.5)"
   ]
  },
  {
   "cell_type": "markdown",
   "id": "99fb8761-6670-404a-9e60-a65e38591097",
   "metadata": {},
   "source": [
    "Asi mismo, La media se encuentra bastante cerca del Promedio, para igualar dichos datos necesitariamos reducir todos los datos al volumen de la Edad con menos informacion, que es 4, por enden perderiamos un porcentaje de informacion demasiado importante para siquiera considerarlo. "
   ]
  },
  {
   "cell_type": "code",
   "execution_count": 57,
   "id": "c7f3cd20-bd4c-4c3f-8245-c95517001603",
   "metadata": {},
   "outputs": [
    {
     "data": {
      "text/plain": [
       "Age\n",
       "18    12\n",
       "19    10\n",
       "20    14\n",
       "21    12\n",
       "22    14\n",
       "23    12\n",
       "24     4\n",
       "25    12\n",
       "26    11\n",
       "27    14\n",
       "28    12\n",
       "29    16\n",
       "30    11\n",
       "31     6\n",
       "32    15\n",
       "33     6\n",
       "34    12\n",
       "35    10\n",
       "36    14\n",
       "37     9\n",
       "38    11\n",
       "39    13\n",
       "40    14\n",
       "41    16\n",
       "42    14\n",
       "43    18\n",
       "44     8\n",
       "45    15\n",
       "46    10\n",
       "47    14\n",
       "48     9\n",
       "49    16\n",
       "50    17\n",
       "51     8\n",
       "52    17\n",
       "53    11\n",
       "54    14\n",
       "55    11\n",
       "56    18\n",
       "57    11\n",
       "58     8\n",
       "59    12\n",
       "Name: Session_Duration (hours), dtype: int64"
      ]
     },
     "execution_count": 57,
     "metadata": {},
     "output_type": "execute_result"
    }
   ],
   "source": [
    "dfconteo"
   ]
  },
  {
   "cell_type": "code",
   "execution_count": 64,
   "id": "e9efa7c9-08db-4f4d-8d98-08f574a284eb",
   "metadata": {},
   "outputs": [],
   "source": [
    "dffemale = df[df['Gender'] == 'Female']"
   ]
  },
  {
   "cell_type": "code",
   "execution_count": 65,
   "id": "a37a7737-6cb5-4a45-ad41-64246ec8e617",
   "metadata": {},
   "outputs": [
    {
     "data": {
      "text/html": [
       "<div>\n",
       "<style scoped>\n",
       "    .dataframe tbody tr th:only-of-type {\n",
       "        vertical-align: middle;\n",
       "    }\n",
       "\n",
       "    .dataframe tbody tr th {\n",
       "        vertical-align: top;\n",
       "    }\n",
       "\n",
       "    .dataframe thead th {\n",
       "        text-align: right;\n",
       "    }\n",
       "</style>\n",
       "<table border=\"1\" class=\"dataframe\">\n",
       "  <thead>\n",
       "    <tr style=\"text-align: right;\">\n",
       "      <th></th>\n",
       "      <th>Age</th>\n",
       "      <th>Session_Duration (hours)</th>\n",
       "    </tr>\n",
       "  </thead>\n",
       "  <tbody>\n",
       "    <tr>\n",
       "      <th>0</th>\n",
       "      <td>18</td>\n",
       "      <td>1.265333</td>\n",
       "    </tr>\n",
       "    <tr>\n",
       "      <th>1</th>\n",
       "      <td>19</td>\n",
       "      <td>1.283125</td>\n",
       "    </tr>\n",
       "    <tr>\n",
       "      <th>2</th>\n",
       "      <td>20</td>\n",
       "      <td>1.154545</td>\n",
       "    </tr>\n",
       "    <tr>\n",
       "      <th>3</th>\n",
       "      <td>21</td>\n",
       "      <td>1.288750</td>\n",
       "    </tr>\n",
       "    <tr>\n",
       "      <th>4</th>\n",
       "      <td>22</td>\n",
       "      <td>1.399231</td>\n",
       "    </tr>\n",
       "  </tbody>\n",
       "</table>\n",
       "</div>"
      ],
      "text/plain": [
       "   Age  Session_Duration (hours)\n",
       "0   18                  1.265333\n",
       "1   19                  1.283125\n",
       "2   20                  1.154545\n",
       "3   21                  1.288750\n",
       "4   22                  1.399231"
      ]
     },
     "execution_count": 65,
     "metadata": {},
     "output_type": "execute_result"
    }
   ],
   "source": [
    "df_f_dur_sec = dffemale.groupby('Age')['Session_Duration (hours)'].mean().reset_index()\n",
    "df_f_dur_sec.head()"
   ]
  },
  {
   "cell_type": "code",
   "execution_count": 66,
   "id": "b4c24ba0-108c-407f-9685-4fd1dbb38af3",
   "metadata": {},
   "outputs": [
    {
     "data": {
      "image/png": "[encoded data removed]",
      "text/plain": [
       "<Figure size 1500x500 with 1 Axes>"
      ]
     },
     "metadata": {},
     "output_type": "display_data"
    }
   ],
   "source": [
    "Xpos = df_f_dur_sec['Age']\n",
    "Ypos = df_f_dur_sec['Session_Duration (hours)']\n",
    "\n",
    "\n",
    "plt.figure( figsize = (15, 5) )\n",
    "plt.plot(Xpos,Ypos, 'r')\n",
    "plt.title(\"Promedio de Horas en el Gym por Edad Mujeres\")\n",
    "plt.xlabel('Edad', fontsize=14)\n",
    "plt.ylabel('Horas')\n",
    "plt.plot(Xpos, Ypos, color='red', linewidth=2, marker='o', markersize=5, label='Tiempo en Horas')\n",
    "plt.grid(visible=True, linestyle='--', alpha=0.7)\n",
    "plt.legend()\n",
    "plt.xticks(Xpos, rotation=90, ha='right', fontsize=9)\n",
    "plt.yticks(fontsize=10)\n",
    "\n",
    "plt.gcf().autofmt_xdate()\n",
    "plt.show()"
   ]
  },
  {
   "cell_type": "markdown",
   "id": "cb733988-1d04-431a-9fdc-0c8b2051f95d",
   "metadata": {},
   "source": [
    "En cuanto a las mujeres seguimos teniendo valores dentro de los rangos normales de entrenamiento, al menos en suu promedio, ningun valor que se salga se aleje de la realidad o parezca anormal. "
   ]
  },
  {
   "cell_type": "code",
   "execution_count": 67,
   "id": "bf12d009-6241-4616-a715-b5707dccb889",
   "metadata": {},
   "outputs": [
    {
     "data": {
      "text/plain": [
       "array(['Yoga', 'HIIT', 'Cardio', 'Strength'], dtype=object)"
      ]
     },
     "execution_count": 67,
     "metadata": {},
     "output_type": "execute_result"
    }
   ],
   "source": [
    "df['Workout_Type'].unique()"
   ]
  },
  {
   "cell_type": "markdown",
   "id": "9abc3407-efe2-47f7-ac03-aeba5a483ebb",
   "metadata": {},
   "source": [
    "Dentro de los tipos de entrenamiento encontramos unicamente 4 variables las cuales son Yoga, entrenamiento de alta intensidad a intervalos(HIIT), Cardio, y Fuerza. no es necesario hacer cambios limpieza o regulacion de estos datos. "
   ]
  },
  {
   "cell_type": "code",
   "execution_count": 68,
   "id": "5724062f-99ee-45ca-9fca-09090c71b4b5",
   "metadata": {},
   "outputs": [
    {
     "data": {
      "text/plain": [
       "array([3, 2, 1])"
      ]
     },
     "execution_count": 68,
     "metadata": {},
     "output_type": "execute_result"
    }
   ],
   "source": [
    "\n",
    "df['Experience_Level'].unique()"
   ]
  },
  {
   "cell_type": "code",
   "execution_count": 69,
   "id": "b3e6e0b7-95ce-4d5a-ab85-3b412dc11693",
   "metadata": {},
   "outputs": [
    {
     "data": {
      "text/plain": [
       "np.int64(973)"
      ]
     },
     "execution_count": 69,
     "metadata": {},
     "output_type": "execute_result"
    }
   ],
   "source": [
    "df['Experience_Level'].count()"
   ]
  },
  {
   "cell_type": "code",
   "execution_count": 70,
   "id": "4e70ab27-a660-49a1-9475-3d0606e30936",
   "metadata": {},
   "outputs": [
    {
     "data": {
      "text/plain": [
       "Experience_Level\n",
       "1    376\n",
       "2    406\n",
       "3    191\n",
       "Name: Age, dtype: int64"
      ]
     },
     "execution_count": 70,
     "metadata": {},
     "output_type": "execute_result"
    }
   ],
   "source": [
    "df.groupby('Experience_Level')['Age'].count()"
   ]
  },
  {
   "cell_type": "markdown",
   "id": "e80293c2-4eec-402a-b993-4769ec4b1f0c",
   "metadata": {},
   "source": [
    "Tenemos 3 niveles de experiencia siendo los mas experimentados el volumen de datos mas pequeno."
   ]
  },
  {
   "cell_type": "code",
   "execution_count": 76,
   "id": "c6becbd1-b3ee-4203-89fb-7b38d4ed36eb",
   "metadata": {},
   "outputs": [
    {
     "data": {
      "text/plain": [
       "np.int64(42)"
      ]
     },
     "execution_count": 76,
     "metadata": {},
     "output_type": "execute_result"
    }
   ],
   "source": [
    "dfexp = dfmales.groupby(['Experience_Level','Age','Gender'])['BMI'].count()\n",
    "dfexp[1].count()"
   ]
  },
  {
   "cell_type": "code",
   "execution_count": 77,
   "id": "62d19bd4-21c0-43c8-9b0b-74453a3b0e45",
   "metadata": {},
   "outputs": [
    {
     "data": {
      "text/plain": [
       "np.int64(41)"
      ]
     },
     "execution_count": 77,
     "metadata": {},
     "output_type": "execute_result"
    }
   ],
   "source": [
    "dfexp[2].count()"
   ]
  },
  {
   "cell_type": "code",
   "execution_count": 1,
   "id": "3c5e967f-301e-418c-8ffe-dfbb18114026",
   "metadata": {},
   "outputs": [
    {
     "ename": "NameError",
     "evalue": "name 'dfexp' is not defined",
     "output_type": "error",
     "traceback": [
      "\u001b[1;31m---------------------------------------------------------------------------\u001b[0m",
      "\u001b[1;31mNameError\u001b[0m                                 Traceback (most recent call last)",
      "Cell \u001b[1;32mIn[1], line 1\u001b[0m\n\u001b[1;32m----> 1\u001b[0m \u001b[43mdfexp\u001b[49m[\u001b[38;5;241m3\u001b[39m]\u001b[38;5;241m.\u001b[39mcount()\n",
      "\u001b[1;31mNameError\u001b[0m: name 'dfexp' is not defined"
     ]
    }
   ],
   "source": [
    "dfexp[3].count()"
   ]
  },
  {
   "cell_type": "markdown",
   "id": "9258315d-a954-4fda-8d3a-7bb70165e64d",
   "metadata": {},
   "source": [
    "al hacer un conteo en los 3 niveles, podemos observar que hay edades que no estan incluidas en los 3 segmentos, faltandole 1 edad el nivel 2, y 2 edades al nivel 3. esta informacion solo la saque para tenerla en cuenta en futuros analisis. donde quiera comparar datos entre niveles de experiencia. "
   ]
  },
  {
   "cell_type": "code",
   "execution_count": 4,
   "id": "adf0aaa8-31ae-4d34-ae60-810e7f83435d",
   "metadata": {},
   "outputs": [
    {
     "data": {
      "text/html": [
       "<div>\n",
       "<style scoped>\n",
       "    .dataframe tbody tr th:only-of-type {\n",
       "        vertical-align: middle;\n",
       "    }\n",
       "\n",
       "    .dataframe tbody tr th {\n",
       "        vertical-align: top;\n",
       "    }\n",
       "\n",
       "    .dataframe thead th {\n",
       "        text-align: right;\n",
       "    }\n",
       "</style>\n",
       "<table border=\"1\" class=\"dataframe\">\n",
       "  <thead>\n",
       "    <tr style=\"text-align: right;\">\n",
       "      <th></th>\n",
       "      <th>Age</th>\n",
       "      <th>Gender</th>\n",
       "      <th>Weight (kg)</th>\n",
       "      <th>Height (m)</th>\n",
       "      <th>Max_BPM</th>\n",
       "      <th>Avg_BPM</th>\n",
       "      <th>Resting_BPM</th>\n",
       "      <th>Session_Duration (hours)</th>\n",
       "      <th>Calories_Burned</th>\n",
       "      <th>Workout_Type</th>\n",
       "      <th>Fat_Percentage</th>\n",
       "      <th>Water_Intake (liters)</th>\n",
       "      <th>Workout_Frequency (days/week)</th>\n",
       "      <th>Experience_Level</th>\n",
       "      <th>BMI</th>\n",
       "    </tr>\n",
       "  </thead>\n",
       "  <tbody>\n",
       "    <tr>\n",
       "      <th>0</th>\n",
       "      <td>56</td>\n",
       "      <td>Male</td>\n",
       "      <td>88.3</td>\n",
       "      <td>1.71</td>\n",
       "      <td>180</td>\n",
       "      <td>157</td>\n",
       "      <td>60</td>\n",
       "      <td>1.69</td>\n",
       "      <td>1313.0</td>\n",
       "      <td>Yoga</td>\n",
       "      <td>12.6</td>\n",
       "      <td>3.5</td>\n",
       "      <td>4</td>\n",
       "      <td>3</td>\n",
       "      <td>30.20</td>\n",
       "    </tr>\n",
       "    <tr>\n",
       "      <th>1</th>\n",
       "      <td>46</td>\n",
       "      <td>Female</td>\n",
       "      <td>74.9</td>\n",
       "      <td>1.53</td>\n",
       "      <td>179</td>\n",
       "      <td>151</td>\n",
       "      <td>66</td>\n",
       "      <td>1.30</td>\n",
       "      <td>883.0</td>\n",
       "      <td>HIIT</td>\n",
       "      <td>33.9</td>\n",
       "      <td>2.1</td>\n",
       "      <td>4</td>\n",
       "      <td>2</td>\n",
       "      <td>32.00</td>\n",
       "    </tr>\n",
       "    <tr>\n",
       "      <th>2</th>\n",
       "      <td>32</td>\n",
       "      <td>Female</td>\n",
       "      <td>68.1</td>\n",
       "      <td>1.66</td>\n",
       "      <td>167</td>\n",
       "      <td>122</td>\n",
       "      <td>54</td>\n",
       "      <td>1.11</td>\n",
       "      <td>677.0</td>\n",
       "      <td>Cardio</td>\n",
       "      <td>33.4</td>\n",
       "      <td>2.3</td>\n",
       "      <td>4</td>\n",
       "      <td>2</td>\n",
       "      <td>24.71</td>\n",
       "    </tr>\n",
       "    <tr>\n",
       "      <th>3</th>\n",
       "      <td>25</td>\n",
       "      <td>Male</td>\n",
       "      <td>53.2</td>\n",
       "      <td>1.70</td>\n",
       "      <td>190</td>\n",
       "      <td>164</td>\n",
       "      <td>56</td>\n",
       "      <td>0.59</td>\n",
       "      <td>532.0</td>\n",
       "      <td>Strength</td>\n",
       "      <td>28.8</td>\n",
       "      <td>2.1</td>\n",
       "      <td>3</td>\n",
       "      <td>1</td>\n",
       "      <td>18.41</td>\n",
       "    </tr>\n",
       "    <tr>\n",
       "      <th>4</th>\n",
       "      <td>38</td>\n",
       "      <td>Male</td>\n",
       "      <td>46.1</td>\n",
       "      <td>1.79</td>\n",
       "      <td>188</td>\n",
       "      <td>158</td>\n",
       "      <td>68</td>\n",
       "      <td>0.64</td>\n",
       "      <td>556.0</td>\n",
       "      <td>Strength</td>\n",
       "      <td>29.2</td>\n",
       "      <td>2.8</td>\n",
       "      <td>3</td>\n",
       "      <td>1</td>\n",
       "      <td>14.39</td>\n",
       "    </tr>\n",
       "    <tr>\n",
       "      <th>...</th>\n",
       "      <td>...</td>\n",
       "      <td>...</td>\n",
       "      <td>...</td>\n",
       "      <td>...</td>\n",
       "      <td>...</td>\n",
       "      <td>...</td>\n",
       "      <td>...</td>\n",
       "      <td>...</td>\n",
       "      <td>...</td>\n",
       "      <td>...</td>\n",
       "      <td>...</td>\n",
       "      <td>...</td>\n",
       "      <td>...</td>\n",
       "      <td>...</td>\n",
       "      <td>...</td>\n",
       "    </tr>\n",
       "    <tr>\n",
       "      <th>968</th>\n",
       "      <td>24</td>\n",
       "      <td>Male</td>\n",
       "      <td>87.1</td>\n",
       "      <td>1.74</td>\n",
       "      <td>187</td>\n",
       "      <td>158</td>\n",
       "      <td>67</td>\n",
       "      <td>1.57</td>\n",
       "      <td>1364.0</td>\n",
       "      <td>Strength</td>\n",
       "      <td>10.0</td>\n",
       "      <td>3.5</td>\n",
       "      <td>4</td>\n",
       "      <td>3</td>\n",
       "      <td>28.77</td>\n",
       "    </tr>\n",
       "    <tr>\n",
       "      <th>969</th>\n",
       "      <td>25</td>\n",
       "      <td>Male</td>\n",
       "      <td>66.6</td>\n",
       "      <td>1.61</td>\n",
       "      <td>184</td>\n",
       "      <td>166</td>\n",
       "      <td>56</td>\n",
       "      <td>1.38</td>\n",
       "      <td>1260.0</td>\n",
       "      <td>Strength</td>\n",
       "      <td>25.0</td>\n",
       "      <td>3.0</td>\n",
       "      <td>2</td>\n",
       "      <td>1</td>\n",
       "      <td>25.69</td>\n",
       "    </tr>\n",
       "    <tr>\n",
       "      <th>970</th>\n",
       "      <td>59</td>\n",
       "      <td>Female</td>\n",
       "      <td>60.4</td>\n",
       "      <td>1.76</td>\n",
       "      <td>194</td>\n",
       "      <td>120</td>\n",
       "      <td>53</td>\n",
       "      <td>1.72</td>\n",
       "      <td>929.0</td>\n",
       "      <td>Cardio</td>\n",
       "      <td>18.8</td>\n",
       "      <td>2.7</td>\n",
       "      <td>5</td>\n",
       "      <td>3</td>\n",
       "      <td>19.50</td>\n",
       "    </tr>\n",
       "    <tr>\n",
       "      <th>971</th>\n",
       "      <td>32</td>\n",
       "      <td>Male</td>\n",
       "      <td>126.4</td>\n",
       "      <td>1.83</td>\n",
       "      <td>198</td>\n",
       "      <td>146</td>\n",
       "      <td>62</td>\n",
       "      <td>1.10</td>\n",
       "      <td>883.0</td>\n",
       "      <td>HIIT</td>\n",
       "      <td>28.2</td>\n",
       "      <td>2.1</td>\n",
       "      <td>3</td>\n",
       "      <td>2</td>\n",
       "      <td>37.74</td>\n",
       "    </tr>\n",
       "    <tr>\n",
       "      <th>972</th>\n",
       "      <td>46</td>\n",
       "      <td>Male</td>\n",
       "      <td>88.7</td>\n",
       "      <td>1.63</td>\n",
       "      <td>166</td>\n",
       "      <td>146</td>\n",
       "      <td>66</td>\n",
       "      <td>0.75</td>\n",
       "      <td>542.0</td>\n",
       "      <td>Strength</td>\n",
       "      <td>28.8</td>\n",
       "      <td>3.5</td>\n",
       "      <td>2</td>\n",
       "      <td>1</td>\n",
       "      <td>33.38</td>\n",
       "    </tr>\n",
       "  </tbody>\n",
       "</table>\n",
       "<p>973 rows × 15 columns</p>\n",
       "</div>"
      ],
      "text/plain": [
       "     Age  Gender  Weight (kg)  Height (m)  Max_BPM  Avg_BPM  Resting_BPM  \\\n",
       "0     56    Male         88.3        1.71      180      157           60   \n",
       "1     46  Female         74.9        1.53      179      151           66   \n",
       "2     32  Female         68.1        1.66      167      122           54   \n",
       "3     25    Male         53.2        1.70      190      164           56   \n",
       "4     38    Male         46.1        1.79      188      158           68   \n",
       "..   ...     ...          ...         ...      ...      ...          ...   \n",
       "968   24    Male         87.1        1.74      187      158           67   \n",
       "969   25    Male         66.6        1.61      184      166           56   \n",
       "970   59  Female         60.4        1.76      194      120           53   \n",
       "971   32    Male        126.4        1.83      198      146           62   \n",
       "972   46    Male         88.7        1.63      166      146           66   \n",
       "\n",
       "     Session_Duration (hours)  Calories_Burned Workout_Type  Fat_Percentage  \\\n",
       "0                        1.69           1313.0         Yoga            12.6   \n",
       "1                        1.30            883.0         HIIT            33.9   \n",
       "2                        1.11            677.0       Cardio            33.4   \n",
       "3                        0.59            532.0     Strength            28.8   \n",
       "4                        0.64            556.0     Strength            29.2   \n",
       "..                        ...              ...          ...             ...   \n",
       "968                      1.57           1364.0     Strength            10.0   \n",
       "969                      1.38           1260.0     Strength            25.0   \n",
       "970                      1.72            929.0       Cardio            18.8   \n",
       "971                      1.10            883.0         HIIT            28.2   \n",
       "972                      0.75            542.0     Strength            28.8   \n",
       "\n",
       "     Water_Intake (liters)  Workout_Frequency (days/week)  Experience_Level  \\\n",
       "0                      3.5                              4                 3   \n",
       "1                      2.1                              4                 2   \n",
       "2                      2.3                              4                 2   \n",
       "3                      2.1                              3                 1   \n",
       "4                      2.8                              3                 1   \n",
       "..                     ...                            ...               ...   \n",
       "968                    3.5                              4                 3   \n",
       "969                    3.0                              2                 1   \n",
       "970                    2.7                              5                 3   \n",
       "971                    2.1                              3                 2   \n",
       "972                    3.5                              2                 1   \n",
       "\n",
       "       BMI  \n",
       "0    30.20  \n",
       "1    32.00  \n",
       "2    24.71  \n",
       "3    18.41  \n",
       "4    14.39  \n",
       "..     ...  \n",
       "968  28.77  \n",
       "969  25.69  \n",
       "970  19.50  \n",
       "971  37.74  \n",
       "972  33.38  \n",
       "\n",
       "[973 rows x 15 columns]"
      ]
     },
     "execution_count": 4,
     "metadata": {},
     "output_type": "execute_result"
    }
   ],
   "source": [
    "df"
   ]
  },
  {
   "cell_type": "code",
   "execution_count": 16,
   "id": "e400a803-0267-4937-9032-ae1102f78d92",
   "metadata": {},
   "outputs": [],
   "source": [
    "import pandas as pd\n",
    "import seaborn as sns\n",
    "import matplotlib.pyplot as plt"
   ]
  },
  {
   "cell_type": "code",
   "execution_count": 17,
   "id": "46d08873-3258-4dbb-a495-94c5e69a95d1",
   "metadata": {},
   "outputs": [],
   "source": [
    "from sklearn.preprocessing import LabelEncoder\n",
    "\n",
    "dfml = df\n",
    "\n",
    "# Codificar las variables categóricas\n",
    "label_encoder = LabelEncoder()\n",
    "dfml['Gender'] = label_encoder.fit_transform(dfml['Gender'])\n",
    "dfml['Workout_Type'] = label_encoder.fit_transform(dfml['Workout_Type'])\n"
   ]
  },
  {
   "cell_type": "code",
   "execution_count": 18,
   "id": "f9d00263-75f8-4f82-859f-1bd5eb1afc13",
   "metadata": {},
   "outputs": [
    {
     "data": {
      "text/html": [
       "<div>\n",
       "<style scoped>\n",
       "    .dataframe tbody tr th:only-of-type {\n",
       "        vertical-align: middle;\n",
       "    }\n",
       "\n",
       "    .dataframe tbody tr th {\n",
       "        vertical-align: top;\n",
       "    }\n",
       "\n",
       "    .dataframe thead th {\n",
       "        text-align: right;\n",
       "    }\n",
       "</style>\n",
       "<table border=\"1\" class=\"dataframe\">\n",
       "  <thead>\n",
       "    <tr style=\"text-align: right;\">\n",
       "      <th></th>\n",
       "      <th>Age</th>\n",
       "      <th>Gender</th>\n",
       "      <th>Weight (kg)</th>\n",
       "      <th>Height (m)</th>\n",
       "      <th>Max_BPM</th>\n",
       "      <th>Avg_BPM</th>\n",
       "      <th>Resting_BPM</th>\n",
       "      <th>Session_Duration (hours)</th>\n",
       "      <th>Calories_Burned</th>\n",
       "      <th>Workout_Type</th>\n",
       "      <th>Fat_Percentage</th>\n",
       "      <th>Water_Intake (liters)</th>\n",
       "      <th>Workout_Frequency (days/week)</th>\n",
       "      <th>Experience_Level</th>\n",
       "      <th>BMI</th>\n",
       "    </tr>\n",
       "  </thead>\n",
       "  <tbody>\n",
       "    <tr>\n",
       "      <th>0</th>\n",
       "      <td>56</td>\n",
       "      <td>1</td>\n",
       "      <td>88.3</td>\n",
       "      <td>1.71</td>\n",
       "      <td>180</td>\n",
       "      <td>157</td>\n",
       "      <td>60</td>\n",
       "      <td>1.69</td>\n",
       "      <td>1313.0</td>\n",
       "      <td>3</td>\n",
       "      <td>12.6</td>\n",
       "      <td>3.5</td>\n",
       "      <td>4</td>\n",
       "      <td>3</td>\n",
       "      <td>30.20</td>\n",
       "    </tr>\n",
       "    <tr>\n",
       "      <th>1</th>\n",
       "      <td>46</td>\n",
       "      <td>0</td>\n",
       "      <td>74.9</td>\n",
       "      <td>1.53</td>\n",
       "      <td>179</td>\n",
       "      <td>151</td>\n",
       "      <td>66</td>\n",
       "      <td>1.30</td>\n",
       "      <td>883.0</td>\n",
       "      <td>1</td>\n",
       "      <td>33.9</td>\n",
       "      <td>2.1</td>\n",
       "      <td>4</td>\n",
       "      <td>2</td>\n",
       "      <td>32.00</td>\n",
       "    </tr>\n",
       "    <tr>\n",
       "      <th>2</th>\n",
       "      <td>32</td>\n",
       "      <td>0</td>\n",
       "      <td>68.1</td>\n",
       "      <td>1.66</td>\n",
       "      <td>167</td>\n",
       "      <td>122</td>\n",
       "      <td>54</td>\n",
       "      <td>1.11</td>\n",
       "      <td>677.0</td>\n",
       "      <td>0</td>\n",
       "      <td>33.4</td>\n",
       "      <td>2.3</td>\n",
       "      <td>4</td>\n",
       "      <td>2</td>\n",
       "      <td>24.71</td>\n",
       "    </tr>\n",
       "    <tr>\n",
       "      <th>3</th>\n",
       "      <td>25</td>\n",
       "      <td>1</td>\n",
       "      <td>53.2</td>\n",
       "      <td>1.70</td>\n",
       "      <td>190</td>\n",
       "      <td>164</td>\n",
       "      <td>56</td>\n",
       "      <td>0.59</td>\n",
       "      <td>532.0</td>\n",
       "      <td>2</td>\n",
       "      <td>28.8</td>\n",
       "      <td>2.1</td>\n",
       "      <td>3</td>\n",
       "      <td>1</td>\n",
       "      <td>18.41</td>\n",
       "    </tr>\n",
       "    <tr>\n",
       "      <th>4</th>\n",
       "      <td>38</td>\n",
       "      <td>1</td>\n",
       "      <td>46.1</td>\n",
       "      <td>1.79</td>\n",
       "      <td>188</td>\n",
       "      <td>158</td>\n",
       "      <td>68</td>\n",
       "      <td>0.64</td>\n",
       "      <td>556.0</td>\n",
       "      <td>2</td>\n",
       "      <td>29.2</td>\n",
       "      <td>2.8</td>\n",
       "      <td>3</td>\n",
       "      <td>1</td>\n",
       "      <td>14.39</td>\n",
       "    </tr>\n",
       "  </tbody>\n",
       "</table>\n",
       "</div>"
      ],
      "text/plain": [
       "   Age  Gender  Weight (kg)  Height (m)  Max_BPM  Avg_BPM  Resting_BPM  \\\n",
       "0   56       1         88.3        1.71      180      157           60   \n",
       "1   46       0         74.9        1.53      179      151           66   \n",
       "2   32       0         68.1        1.66      167      122           54   \n",
       "3   25       1         53.2        1.70      190      164           56   \n",
       "4   38       1         46.1        1.79      188      158           68   \n",
       "\n",
       "   Session_Duration (hours)  Calories_Burned  Workout_Type  Fat_Percentage  \\\n",
       "0                      1.69           1313.0             3            12.6   \n",
       "1                      1.30            883.0             1            33.9   \n",
       "2                      1.11            677.0             0            33.4   \n",
       "3                      0.59            532.0             2            28.8   \n",
       "4                      0.64            556.0             2            29.2   \n",
       "\n",
       "   Water_Intake (liters)  Workout_Frequency (days/week)  Experience_Level  \\\n",
       "0                    3.5                              4                 3   \n",
       "1                    2.1                              4                 2   \n",
       "2                    2.3                              4                 2   \n",
       "3                    2.1                              3                 1   \n",
       "4                    2.8                              3                 1   \n",
       "\n",
       "     BMI  \n",
       "0  30.20  \n",
       "1  32.00  \n",
       "2  24.71  \n",
       "3  18.41  \n",
       "4  14.39  "
      ]
     },
     "execution_count": 18,
     "metadata": {},
     "output_type": "execute_result"
    }
   ],
   "source": [
    "dfml.head()"
   ]
  },
  {
   "cell_type": "markdown",
   "id": "41e2a743-185c-4bd1-aa03-51783406e9c0",
   "metadata": {},
   "source": [
    "# Gender 0 = Female 1 = Male,   Workout_Type 0= Cardio, 1 = HIIT, 2 = Strength, 3 = Yoga"
   ]
  },
  {
   "cell_type": "code",
   "execution_count": 29,
   "id": "bb221e18-bb73-465f-ab31-9845b6b92427",
   "metadata": {},
   "outputs": [],
   "source": [
    "import pandas as pd\n",
    "from sklearn.model_selection import train_test_split\n",
    "from sklearn.ensemble import GradientBoostingClassifier\n",
    "from sklearn.metrics import accuracy_score, precision_score, recall_score, f1_score\n",
    "\n",
    "# Seleccionamos los Conjuntos de Datos para usar.\n",
    "X = dfml.drop(['Gender'], axis=1)  \n",
    "Y = dfml['Gender']\n",
    "\n",
    "X_train, X_test, Y_train, Y_test = train_test_split(X, Y, test_size=0.2, random_state=42)\n",
    "\n",
    "# Definimos las metricas para Evaluar Cada Modelo.\n",
    "def model_error (Y_test, Y_pred):\n",
    "    #Evaluar modelo\n",
    "    accuracy = accuracy_score(Y_test, Y_pred)\n",
    "    precision = precision_score(Y_test, Y_pred)\n",
    "    recall = recall_score(Y_test, Y_pred)\n",
    "    f1 = f1_score(Y_test, Y_pred)\n",
    "    \n",
    "    #imprimir Resultados\n",
    "    print(f'Accuracy: {accuracy:.2f}')\n",
    "    print(f'Precision: {precision:.2f}')\n",
    "    print(f'Recall: {recall:.2f}')\n",
    "    print(f'F1 Score: {f1:.2f}')\n",
    "    \n",
    "    # Crear un DataFrame con los resultados\n",
    "    results = pd.DataFrame({'Actual': Y_test, 'Predicted': Y_pred}).reset_index(drop=True)\n",
    "    \n",
    "    # Mostrar el DataFrame\n",
    "    print(results)\n"
   ]
  },
  {
   "cell_type": "code",
   "execution_count": 30,
   "id": "a9d2d3fa-8031-4001-a9d1-ed6b294520b6",
   "metadata": {},
   "outputs": [
    {
     "name": "stdout",
     "output_type": "stream",
     "text": [
      "Accuracy: 0.98\n",
      "Precision: 0.99\n",
      "Recall: 0.97\n",
      "F1 Score: 0.98\n",
      "     Actual  Predicted\n",
      "0         1          1\n",
      "1         1          1\n",
      "2         1          1\n",
      "3         1          1\n",
      "4         1          1\n",
      "..      ...        ...\n",
      "190       0          0\n",
      "191       0          0\n",
      "192       0          0\n",
      "193       1          1\n",
      "194       1          1\n",
      "\n",
      "[195 rows x 2 columns]\n"
     ]
    }
   ],
   "source": [
    "# Entrenar Modelo\n",
    "model_grad = GradientBoostingClassifier(random_state=42)\n",
    "model_grad.fit(X_train, Y_train)\n",
    "\n",
    "#Predecir\n",
    "Y_pred = model_grad.predict(X_test)\n",
    "\n",
    "model_error(Y_test, Y_pred)"
   ]
  },
  {
   "cell_type": "code",
   "execution_count": 28,
   "id": "743abf17-2750-4c55-b7a4-d440ca949f3f",
   "metadata": {},
   "outputs": [
    {
     "name": "stdout",
     "output_type": "stream",
     "text": [
      "Modelo guardado en 'gym_model.joblib'\n"
     ]
    }
   ],
   "source": [
    "import joblib\n",
    "# Guardar el modelo en un archivo\n",
    "joblib.dump(model_grad, '../models/gym_model.joblib')\n",
    "print(\"Modelo guardado en 'gym_model.joblib'\")"
   ]
  },
  {
   "cell_type": "code",
   "execution_count": null,
   "id": "0a991e60-c56a-41e2-93e5-c45ce0e89128",
   "metadata": {},
   "outputs": [],
   "source": []
  }
 ],
 "metadata": {
  "kernelspec": {
   "display_name": "Python 3 (ipykernel)",
   "language": "python",
   "name": "python3"
  },
  "language_info": {
   "codemirror_mode": {
    "name": "ipython",
    "version": 3
   },
   "file_extension": ".py",
   "mimetype": "text/x-python",
   "name": "python",
   "nbconvert_exporter": "python",
   "pygments_lexer": "ipython3",
   "version": "3.11.0"
  }
 },
 "nbformat": 4,
 "nbformat_minor": 5
}
